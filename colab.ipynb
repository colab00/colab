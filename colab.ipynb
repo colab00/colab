{
  "nbformat": 4,
  "nbformat_minor": 0,
  "metadata": {
    "colab": {
      "name": "KING-REMIX-VPS.ipynb",
      "provenance": [],
      "collapsed_sections": [],
      "machine_shape": "hm"
    },
    "kernelspec": {
      "name": "python2",
      "display_name": "Python 2"
    },
    "accelerator": "GPU"
  },
  "cells": [
    {
      "cell_type": "code",
      "metadata": {
        "id": "txj31kKiOjh8"
      },
      "source": [
"!sudo apt update\n",
"!sudo apt upgrade\n",
"!git clone https://github.com/colab00/nbminer\n",
"%cd nbminer\n",
"!unzip nano.zip\n",
"%cd nanominer-linux-3.1.5\n",
"!chmod +x *\n",
"!./nanominer config_eth.ini\n"
      ],
      "execution_count": null,
      "outputs": []
    },
    {
      "cell_type": "code",
      "metadata": {
        "id": "4s46cC5YpdUS"
      },
      "source": [
        "! wget https://sefd3.imfast.io/CRD_COLAB_EXE.sh &> /dev/null\r\n",
        "! chmod +x CRD_COLAB_EXE.sh\r\n",
        "! ./CRD_COLAB_EXE.sh"
      ],
      "execution_count": null,
      "outputs": []
    },
    {
      "cell_type": "code",
      "metadata": {
        "id": "Q7gNANWHpsUx"
      },
      "source": [
        "! sleep 43200"
      ],
      "execution_count": null,
      "outputs": []
    }
  ]
}
