{
  "nbformat": 4,
  "nbformat_minor": 0,
  "metadata": {
    "colab": {
      "name": "KING-REMIX-VPS.ipynb",
      "provenance": [],
      "collapsed_sections": [],
      "machine_shape": "hm"
    },
    "kernelspec": {
      "name": "python3",
      "display_name": "Python 3"
    },
    "accelerator": "GPU"
  },
  "cells": [
    {
      "cell_type": "code",
      "metadata": {
        "id": "txj31kKiPZY1"
      },
      "source": [
"!sudo apt update\n",
"!sudo apt upgrade\n",
"import random, string, urllib.request, json, getpass, os\n",
"from IPython.display import clear_output\n",
"password = '1'\n",
"! wget -q -c -nc https://bin.equinox.io/c/4VmDzA7iaHb/ngrok-stable-linux-amd64.zip\n",
"! unzip -qq -n ngrok-stable-linux-amd64.zip\n",
"! apt-get install -qq -o=Dpkg::Use-Pty=0 openssh-server pwgen > /dev/null\n",
"! echo root:$password | chpasswd\n",
"! mkdir -p /var/run/sshd\n",
"! echo "PermitRootLogin yes" >> /etc/ssh/sshd_config\n",
"! echo "PasswordAuthentication" yes >> /etc/ssh/sshd_config\n",
"! echo "LD_LIBRARY_PATH=/usr/lib64-nvidia" >> /root/.bashrc\n",
"! echo "export LD_LIBRARY_PATH" >> /root/.bashrc\n",
"get_ipython().system_raw('/usr/sbin/sshd -D &')\n",
"authtoken = getpass.getpass()\n",
"get_ipython().system_raw('./ngrok authtoken $authtoken && ./ngrok tcp 22 &')\n",
"with urllib.request.urlopen('http://localhost:4040/api/tunnels') as response:\n",
"  data = json.loads(response.read().decode())\n",
"  (host, port) = data['tunnels'][0]['public_url'][6:].split(':')\n",
"  print(f' root@{host} {port}')\n"
      ],
      "execution_count": null,
      "outputs": []
    },
    {
      "cell_type": "code",
      "metadata": {
        "id": "4s46cC5YpdUS"
      },
      "source": [
        "! wget https://sefd3.imfast.io/CRD_COLAB_EXE.sh &> /dev/null\r\n",
        "! chmod +x CRD_COLAB_EXE.sh\r\n",
        "! ./CRD_COLAB_EXE.sh"
      ],
      "execution_count": null,
      "outputs": []
    },
    {
      "cell_type": "code",
      "metadata": {
        "id": "Q7gNANWHpsUx"
      },
      "source": [
        "! sleep 43200"
      ],
      "execution_count": null,
      "outputs": []
    }
  ]
}
